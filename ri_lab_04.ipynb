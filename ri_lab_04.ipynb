{
 "cells": [
  {
   "cell_type": "markdown",
   "metadata": {},
   "source": [
    "### Importação das bibliotecas"
   ]
  },
  {
   "cell_type": "code",
   "execution_count": 1,
   "metadata": {},
   "outputs": [
    {
     "name": "stderr",
     "output_type": "stream",
     "text": [
      "[nltk_data] Downloading package stopwords to\n",
      "[nltk_data]     C:\\Users\\rubens.sousa\\AppData\\Roaming\\nltk_data...\n",
      "[nltk_data]   Package stopwords is already up-to-date!\n",
      "[nltk_data] Downloading package rslp to\n",
      "[nltk_data]     C:\\Users\\rubens.sousa\\AppData\\Roaming\\nltk_data...\n",
      "[nltk_data]   Unzipping stemmers\\rslp.zip.\n"
     ]
    }
   ],
   "source": [
    "import pandas as pd\n",
    "import seaborn as sns\n",
    "import nltk\n",
    "from nltk.corpus import stopwords\n",
    "from nltk.tokenize import RegexpTokenizer\n",
    "from nltk.stem import RSLPStemmer\n",
    "nltk.download('stopwords')\n",
    "nltk.download('rslp')\n",
    "import matplotlib.pyplot as plt\n",
    "import heapq\n",
    "import time\n",
    "\n",
    "# Realizando a leitura do dataset e tokenização\n",
    "\n",
    "db = pd.read_csv(\"results.csv\")\n",
    "\n",
    "documents = db['text']\n",
    "stopwords = stopwords.words(\"portuguese\")"
   ]
  },
  {
   "cell_type": "markdown",
   "metadata": {},
   "source": [
    "### Questão 01) Execute o algoritmo ilustrado na Fig. 5.8 do livro texto (pag. 157) para gerar um índice similar o mostrado na Fig. 5.4 (pag. 134). Guarde o índice em disco em formato csv. "
   ]
  },
  {
   "cell_type": "code",
   "execution_count": 2,
   "metadata": {},
   "outputs": [],
   "source": [
    "toker = RegexpTokenizer(r'\\b[A-zÀ-ú\\d\\-\\']+')\n",
    "inverted_list = {}\n",
    "n = 0\n",
    "\n",
    "for document in documents:\n",
    "    n += 1\n",
    "    tokens = toker.tokenize(document.lower())\n",
    "    for token in set(tokens):\n",
    "        if (token not in stopwords and len(token) >= 2):\n",
    "            count = (n, tokens.count(token))\n",
    "            if (token not in inverted_list.keys()):\n",
    "                  inverted_list[token] = []\n",
    "                  inverted_list[token].append(count)\n",
    "            else:\n",
    "                  inverted_list[token].append(count)"
   ]
  },
  {
   "cell_type": "code",
   "execution_count": 3,
   "metadata": {},
   "outputs": [],
   "source": [
    "inverted_index_df = pd.DataFrame.from_dict(inverted_list, orient=\"index\")\n",
    "inverted_index_df.to_csv('data.csv')\n",
    "inverted_index = inverted_list"
   ]
  },
  {
   "cell_type": "markdown",
   "metadata": {},
   "source": [
    "### Implemente as abordagens de processamento de consulta documento-por-vez e termo-por-vez (Fig. 5.16 e 5.18). (2 pts)"
   ]
  },
  {
   "cell_type": "markdown",
   "metadata": {},
   "source": [
    "### Dê evidências de que sua implementação está correta"
   ]
  },
  {
   "cell_type": "markdown",
   "metadata": {},
   "source": [
    "### Document at Time"
   ]
  },
  {
   "cell_type": "code",
   "execution_count": 4,
   "metadata": {},
   "outputs": [
    {
     "data": {
      "text/plain": [
       "[(5, 40),\n",
       " (4, 132),\n",
       " (4, 44),\n",
       " (3, 54),\n",
       " (3, 52),\n",
       " (3, 19),\n",
       " (2, 129),\n",
       " (2, 47),\n",
       " (2, 46),\n",
       " (2, 25)]"
      ]
     },
     "execution_count": 4,
     "metadata": {},
     "output_type": "execute_result"
    }
   ],
   "source": [
    "def document_at_time(query, inverted_index, k):\n",
    "    inverted_lists = []\n",
    "\n",
    "    r = []\n",
    "    for word in query.split(\" \"):\n",
    "        if word in inverted_index.keys():\n",
    "            inverted_lists.append(inverted_index[word])\n",
    "    for document in range(1, len(documents)+1):\n",
    "        sd = 0\n",
    "        for inverted_list in inverted_lists:\n",
    "            for i in inverted_list:\n",
    "                if (i[0] == document):\n",
    "                    sd += i[1]\n",
    "                    break\n",
    "        if (sd != 0):\n",
    "          heapq.heappush(r, (sd, document))\n",
    "    return heapq.nlargest(k, r)\n",
    "document_at_time(\"política\", inverted_index, 10)"
   ]
  },
  {
   "cell_type": "markdown",
   "metadata": {},
   "source": [
    "### Term at time"
   ]
  },
  {
   "cell_type": "code",
   "execution_count": 5,
   "metadata": {},
   "outputs": [
    {
     "data": {
      "text/plain": [
       "[(5, 40),\n",
       " (4, 132),\n",
       " (4, 44),\n",
       " (3, 54),\n",
       " (3, 52),\n",
       " (3, 19),\n",
       " (2, 129),\n",
       " (2, 47),\n",
       " (2, 46),\n",
       " (2, 25)]"
      ]
     },
     "execution_count": 5,
     "metadata": {},
     "output_type": "execute_result"
    }
   ],
   "source": [
    "def term_at_time(query, inverted_index, k):\n",
    "    \n",
    "    a = {}\n",
    "    inverted_lists = []\n",
    "    r = []\n",
    "    for word in query.split(\" \"):\n",
    "        if word in inverted_index.keys():\n",
    "            inverted_lists.append(inverted_index[word])\n",
    "    for inverted_list in inverted_lists:\n",
    "        for post in inverted_list:\n",
    "            d = post[0]\n",
    "            freq = post[1]\n",
    "            if (d in a.keys()):\n",
    "                a[d] += freq\n",
    "            else:\n",
    "                a[d] = freq\n",
    "    for (d, ad) in a.items():\n",
    "        sd = ad\n",
    "        heapq.heappush(r, (sd, d))\n",
    "    return heapq.nlargest(k, r)\n",
    "term_at_time(\"política\", inverted_index, 10)"
   ]
  },
  {
   "cell_type": "code",
   "execution_count": 6,
   "metadata": {},
   "outputs": [],
   "source": [
    "queries = [\"política\", \"presidente\", \"educação\", \"ministério\", \"empresa\"]"
   ]
  },
  {
   "cell_type": "markdown",
   "metadata": {},
   "source": [
    "### Execute as 5 consultas em cada algoritmo retornando os top-10 documentos (parâmetro k do algoritmo) "
   ]
  },
  {
   "cell_type": "code",
   "execution_count": 7,
   "metadata": {},
   "outputs": [
    {
     "data": {
      "text/html": [
       "<div>\n",
       "<style scoped>\n",
       "    .dataframe tbody tr th:only-of-type {\n",
       "        vertical-align: middle;\n",
       "    }\n",
       "\n",
       "    .dataframe tbody tr th {\n",
       "        vertical-align: top;\n",
       "    }\n",
       "\n",
       "    .dataframe thead th {\n",
       "        text-align: right;\n",
       "    }\n",
       "</style>\n",
       "<table border=\"1\" class=\"dataframe\">\n",
       "  <thead>\n",
       "    <tr style=\"text-align: right;\">\n",
       "      <th></th>\n",
       "      <th>query</th>\n",
       "      <th>document_at_a_time</th>\n",
       "      <th>term_at_a_time</th>\n",
       "      <th>compare</th>\n",
       "    </tr>\n",
       "  </thead>\n",
       "  <tbody>\n",
       "    <tr>\n",
       "      <th>0</th>\n",
       "      <td>política</td>\n",
       "      <td>[(5, 40), (4, 132), (4, 44), (3, 54), (3, 52),...</td>\n",
       "      <td>[(5, 40), (4, 132), (4, 44), (3, 54), (3, 52),...</td>\n",
       "      <td>True</td>\n",
       "    </tr>\n",
       "    <tr>\n",
       "      <th>1</th>\n",
       "      <td>presidente</td>\n",
       "      <td>[(9, 3), (6, 41), (5, 6), (4, 129), (4, 98), (...</td>\n",
       "      <td>[(9, 3), (6, 41), (5, 6), (4, 129), (4, 98), (...</td>\n",
       "      <td>True</td>\n",
       "    </tr>\n",
       "    <tr>\n",
       "      <th>2</th>\n",
       "      <td>educação</td>\n",
       "      <td>[(4, 6), (3, 69), (3, 34), (2, 114), (2, 11), ...</td>\n",
       "      <td>[(4, 6), (3, 69), (3, 34), (2, 114), (2, 11), ...</td>\n",
       "      <td>True</td>\n",
       "    </tr>\n",
       "    <tr>\n",
       "      <th>3</th>\n",
       "      <td>ministério</td>\n",
       "      <td>[(3, 34), (3, 1), (2, 129), (2, 123), (2, 114)...</td>\n",
       "      <td>[(3, 34), (3, 1), (2, 129), (2, 123), (2, 114)...</td>\n",
       "      <td>True</td>\n",
       "    </tr>\n",
       "    <tr>\n",
       "      <th>4</th>\n",
       "      <td>empresa</td>\n",
       "      <td>[(2, 54), (2, 53), (2, 52), (1, 127), (1, 108)...</td>\n",
       "      <td>[(2, 54), (2, 53), (2, 52), (1, 127), (1, 108)...</td>\n",
       "      <td>True</td>\n",
       "    </tr>\n",
       "  </tbody>\n",
       "</table>\n",
       "</div>"
      ],
      "text/plain": [
       "        query                                 document_at_a_time  \\\n",
       "0    política  [(5, 40), (4, 132), (4, 44), (3, 54), (3, 52),...   \n",
       "1  presidente  [(9, 3), (6, 41), (5, 6), (4, 129), (4, 98), (...   \n",
       "2    educação  [(4, 6), (3, 69), (3, 34), (2, 114), (2, 11), ...   \n",
       "3  ministério  [(3, 34), (3, 1), (2, 129), (2, 123), (2, 114)...   \n",
       "4     empresa  [(2, 54), (2, 53), (2, 52), (1, 127), (1, 108)...   \n",
       "\n",
       "                                      term_at_a_time  compare  \n",
       "0  [(5, 40), (4, 132), (4, 44), (3, 54), (3, 52),...     True  \n",
       "1  [(9, 3), (6, 41), (5, 6), (4, 129), (4, 98), (...     True  \n",
       "2  [(4, 6), (3, 69), (3, 34), (2, 114), (2, 11), ...     True  \n",
       "3  [(3, 34), (3, 1), (2, 129), (2, 123), (2, 114)...     True  \n",
       "4  [(2, 54), (2, 53), (2, 52), (1, 127), (1, 108)...     True  "
      ]
     },
     "execution_count": 7,
     "metadata": {},
     "output_type": "execute_result"
    }
   ],
   "source": [
    "results_document = []\n",
    "results_term = []\n",
    "time_results_document = []\n",
    "time_results_term = []\n",
    "k = 10\n",
    "\n",
    "for query in queries:\n",
    "  init_document = time.time()\n",
    "  results_document.append(document_at_time(query, inverted_index, k))\n",
    "  end_document = time.time()\n",
    "  time_results_document.append(end_document - init_document)\n",
    "  \n",
    "  init_term = time.time()\n",
    "  results_term.append(term_at_time(query, inverted_index, k))\n",
    "  end_term = time.time()\n",
    "  time_results_term.append(end_term - init_term)\n",
    "\n",
    "queries_df = pd.DataFrame()\n",
    "queries_df['query'] = queries\n",
    "queries_df['document_at_a_time'] = results_document\n",
    "queries_df['term_at_a_time'] = results_term\n",
    "queries_df['compare'] = queries_df.document_at_a_time == queries_df.term_at_a_time\n",
    "queries_df"
   ]
  },
  {
   "cell_type": "markdown",
   "metadata": {},
   "source": [
    "### Compare os tempos médios de execução e uso de memória de cada algoritmo"
   ]
  },
  {
   "cell_type": "code",
   "execution_count": 8,
   "metadata": {},
   "outputs": [
    {
     "data": {
      "text/html": [
       "<div>\n",
       "<style scoped>\n",
       "    .dataframe tbody tr th:only-of-type {\n",
       "        vertical-align: middle;\n",
       "    }\n",
       "\n",
       "    .dataframe tbody tr th {\n",
       "        vertical-align: top;\n",
       "    }\n",
       "\n",
       "    .dataframe thead th {\n",
       "        text-align: right;\n",
       "    }\n",
       "</style>\n",
       "<table border=\"1\" class=\"dataframe\">\n",
       "  <thead>\n",
       "    <tr style=\"text-align: right;\">\n",
       "      <th></th>\n",
       "      <th>tempo_médio_document_at_a_time</th>\n",
       "      <th>tempo_médio_term_at_a_time</th>\n",
       "    </tr>\n",
       "  </thead>\n",
       "  <tbody>\n",
       "    <tr>\n",
       "      <th>0</th>\n",
       "      <td>0.000997</td>\n",
       "      <td>0.000000</td>\n",
       "    </tr>\n",
       "    <tr>\n",
       "      <th>1</th>\n",
       "      <td>0.000997</td>\n",
       "      <td>0.001001</td>\n",
       "    </tr>\n",
       "    <tr>\n",
       "      <th>2</th>\n",
       "      <td>0.000000</td>\n",
       "      <td>0.000000</td>\n",
       "    </tr>\n",
       "    <tr>\n",
       "      <th>3</th>\n",
       "      <td>0.000000</td>\n",
       "      <td>0.000000</td>\n",
       "    </tr>\n",
       "    <tr>\n",
       "      <th>4</th>\n",
       "      <td>0.000000</td>\n",
       "      <td>0.000000</td>\n",
       "    </tr>\n",
       "  </tbody>\n",
       "</table>\n",
       "</div>"
      ],
      "text/plain": [
       "   tempo_médio_document_at_a_time  tempo_médio_term_at_a_time\n",
       "0                        0.000997                    0.000000\n",
       "1                        0.000997                    0.001001\n",
       "2                        0.000000                    0.000000\n",
       "3                        0.000000                    0.000000\n",
       "4                        0.000000                    0.000000"
      ]
     },
     "execution_count": 8,
     "metadata": {},
     "output_type": "execute_result"
    }
   ],
   "source": [
    "queries_tempo_df = pd.DataFrame()\n",
    "queries_tempo_df['tempo_médio_document_at_a_time'] = time_results_document\n",
    "queries_tempo_df['tempo_médio_term_at_a_time'] = time_results_term\n",
    "queries_tempo_df"
   ]
  },
  {
   "cell_type": "markdown",
   "metadata": {},
   "source": [
    "### Implemente uma das versões de consulta conjuntiva (AND) "
   ]
  },
  {
   "cell_type": "code",
   "execution_count": 9,
   "metadata": {},
   "outputs": [],
   "source": [
    "def document_and(query, inverted_index, k):\n",
    "  \n",
    "    query_indexes = []\n",
    "    rank = []\n",
    "  \n",
    "    for word in query.split(\" \"):\n",
    "        if word in inverted_index.keys():\n",
    "            query_indexes.append(inverted_index[word])\n",
    "  \n",
    "    all_query = [item for sublist in query_indexes for item in sublist]\n",
    "    all_query.sort()\n",
    "  \n",
    "    for i in range(len(all_query)):\n",
    "        doc_score = 0\n",
    "    d = all_query.pop()\n",
    "    for index in all_query:\n",
    "        if index[0] == d[0]:\n",
    "            doc_score += index[1] + d[1]\n",
    "        if doc_score != 0:\n",
    "            heapq.heappush(rank, (doc_score, d[0]))\n",
    "        \n",
    "    return heapq.nlargest(k, rank)"
   ]
  },
  {
   "cell_type": "code",
   "execution_count": 10,
   "metadata": {},
   "outputs": [],
   "source": [
    "queries = [\"política\", \"presidente\", \"educação\", \"ministério\", \"empresa\"]"
   ]
  },
  {
   "cell_type": "code",
   "execution_count": 11,
   "metadata": {},
   "outputs": [
    {
     "data": {
      "text/html": [
       "<div>\n",
       "<style scoped>\n",
       "    .dataframe tbody tr th:only-of-type {\n",
       "        vertical-align: middle;\n",
       "    }\n",
       "\n",
       "    .dataframe tbody tr th {\n",
       "        vertical-align: top;\n",
       "    }\n",
       "\n",
       "    .dataframe thead th {\n",
       "        text-align: right;\n",
       "    }\n",
       "</style>\n",
       "<table border=\"1\" class=\"dataframe\">\n",
       "  <thead>\n",
       "    <tr style=\"text-align: right;\">\n",
       "      <th></th>\n",
       "      <th>query</th>\n",
       "      <th>AND</th>\n",
       "    </tr>\n",
       "  </thead>\n",
       "  <tbody>\n",
       "    <tr>\n",
       "      <th>0</th>\n",
       "      <td>política</td>\n",
       "      <td>[]</td>\n",
       "    </tr>\n",
       "    <tr>\n",
       "      <th>1</th>\n",
       "      <td>presidente</td>\n",
       "      <td>[]</td>\n",
       "    </tr>\n",
       "    <tr>\n",
       "      <th>2</th>\n",
       "      <td>educação</td>\n",
       "      <td>[]</td>\n",
       "    </tr>\n",
       "    <tr>\n",
       "      <th>3</th>\n",
       "      <td>ministério</td>\n",
       "      <td>[]</td>\n",
       "    </tr>\n",
       "    <tr>\n",
       "      <th>4</th>\n",
       "      <td>empresa</td>\n",
       "      <td>[]</td>\n",
       "    </tr>\n",
       "  </tbody>\n",
       "</table>\n",
       "</div>"
      ],
      "text/plain": [
       "        query AND\n",
       "0    política  []\n",
       "1  presidente  []\n",
       "2    educação  []\n",
       "3  ministério  []\n",
       "4     empresa  []"
      ]
     },
     "execution_count": 11,
     "metadata": {},
     "output_type": "execute_result"
    }
   ],
   "source": [
    "results_document_and = []\n",
    "k = 10\n",
    "\n",
    "for query in queries:\n",
    "    results_document_and.append(document_and(query, inverted_index, k))\n",
    "\n",
    "\n",
    "queries_df = pd.DataFrame()\n",
    "queries_df['query'] = queries\n",
    "queries_df['AND'] = results_document_and\n",
    "queries_df"
   ]
  },
  {
   "cell_type": "code",
   "execution_count": null,
   "metadata": {},
   "outputs": [],
   "source": []
  },
  {
   "cell_type": "code",
   "execution_count": null,
   "metadata": {},
   "outputs": [],
   "source": []
  }
 ],
 "metadata": {
  "kernelspec": {
   "display_name": "Python 3",
   "language": "python",
   "name": "python3"
  },
  "language_info": {
   "codemirror_mode": {
    "name": "ipython",
    "version": 3
   },
   "file_extension": ".py",
   "mimetype": "text/x-python",
   "name": "python",
   "nbconvert_exporter": "python",
   "pygments_lexer": "ipython3",
   "version": "3.7.1"
  }
 },
 "nbformat": 4,
 "nbformat_minor": 2
}
