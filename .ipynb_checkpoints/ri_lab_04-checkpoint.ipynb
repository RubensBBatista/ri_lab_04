{
 "cells": [
  {
   "cell_type": "markdown",
   "metadata": {},
   "source": []
  },
  {
   "cell_type": "code",
   "execution_count": 46,
   "metadata": {},
   "outputs": [
    {
     "name": "stderr",
     "output_type": "stream",
     "text": [
      "[nltk_data] Downloading package stopwords to C:\\Users\\Rubens\n",
      "[nltk_data]     Batista\\AppData\\Roaming\\nltk_data...\n",
      "[nltk_data]   Package stopwords is already up-to-date!\n",
      "[nltk_data] Downloading package rslp to C:\\Users\\Rubens\n",
      "[nltk_data]     Batista\\AppData\\Roaming\\nltk_data...\n",
      "[nltk_data]   Package rslp is already up-to-date!\n"
     ]
    }
   ],
   "source": [
    "import pandas as pnd\n",
    "import seaborn as sea\n",
    "import nltk\n",
    "from nltk.corpus import stopwords\n",
    "from nltk.tokenize import RegexpTokenizer\n",
    "from nltk.stem import RSLPStemmer\n",
    "nltk.download('stopwords')\n",
    "nltk.download('rslp')\n",
    "import matplotlib.pyplot as plt\n",
    "import heapq\n",
    "import time\n",
    "\n",
    "dados = pnd.read_csv(\"results.csv\")\n",
    "\n",
    "documentos = dados['text']\n",
    "stopwords = stopwords.words(\"portuguese\")"
   ]
  },
  {
   "cell_type": "markdown",
   "metadata": {},
   "source": [
    "### 01) Execute o algoritmo ilustrado na Fig. 5.8 do livro texto (pag. 157) para gerar um índice similar o mostrado na Fig. 5.4 (pag. 134). Guarde o índice em disco em formato csv. "
   ]
  },
  {
   "cell_type": "code",
   "execution_count": 47,
   "metadata": {},
   "outputs": [],
   "source": [
    "reg_token = RegexpTokenizer(r'\\b[A-zÀ-ú\\d\\-\\']+')\n",
    "lista_invertida = {}\n",
    "n = 0\n",
    "\n",
    "for d in documentos:\n",
    "    n += 1\n",
    "    tokens = reg_token.tokenize(d.lower())\n",
    "    for token in set(tokens):\n",
    "        if ((token not in stopwords) and (len(token) >= 2)):\n",
    "            contador = (n, tokens.count(token))\n",
    "            if (token not in lista_invertida.keys()):\n",
    "                  lista_invertida[token] = []\n",
    "                  lista_invertida[token].append(contador)\n",
    "            else:\n",
    "                  lista_invertida[token].append(contador)"
   ]
  },
  {
   "cell_type": "code",
   "execution_count": 48,
   "metadata": {},
   "outputs": [],
   "source": [
    "indice_invertido_df = pnd.DataFrame.from_dict(lista_invertida, orient=\"index\")\n",
    "indice_invertido_df.to_csv('data.csv')\n",
    "indice_invertido = lista_invertida"
   ]
  },
  {
   "cell_type": "markdown",
   "metadata": {},
   "source": [
    "### 2 ) Implemente as abordagens de processamento de consulta documento-por-vez e termo-por-vez (Fig. 5.16 e 5.18). (2 pts)"
   ]
  },
  {
   "cell_type": "markdown",
   "metadata": {},
   "source": [
    "### Dê evidências de que sua implementação está correta"
   ]
  },
  {
   "cell_type": "markdown",
   "metadata": {},
   "source": [
    "### Document at Time"
   ]
  },
  {
   "cell_type": "code",
   "execution_count": 49,
   "metadata": {},
   "outputs": [
    {
     "data": {
      "text/plain": [
       "[(9, 3),\n",
       " (6, 41),\n",
       " (5, 6),\n",
       " (4, 129),\n",
       " (4, 98),\n",
       " (4, 71),\n",
       " (4, 45),\n",
       " (4, 37),\n",
       " (4, 27),\n",
       " (3, 112)]"
      ]
     },
     "execution_count": 49,
     "metadata": {},
     "output_type": "execute_result"
    }
   ],
   "source": [
    "def document_at_time(query, indice_invertido, k):\n",
    "    listas_invertidas = []\n",
    "\n",
    "    r = []\n",
    "    for word in query.split(\" \"):\n",
    "        if word in indice_invertido.keys():\n",
    "            listas_invertidas.append(indice_invertido[word])\n",
    "    for documento in range(1, len(documentos)+1):\n",
    "        sd = 0\n",
    "        for lista_invertida in listas_invertidas:\n",
    "            for i in lista_invertida:\n",
    "                if (i[0] == documento):\n",
    "                    sd += i[1]\n",
    "                    break\n",
    "        if (sd != 0):\n",
    "          heapq.heappush(r, (sd, documento))\n",
    "    return heapq.nlargest(k, r)\n",
    "document_at_time(\"presidente\", indice_invertido, 10)"
   ]
  },
  {
   "cell_type": "markdown",
   "metadata": {},
   "source": [
    "### Term at time"
   ]
  },
  {
   "cell_type": "code",
   "execution_count": 50,
   "metadata": {},
   "outputs": [
    {
     "data": {
      "text/plain": [
       "[(9, 3),\n",
       " (6, 41),\n",
       " (5, 6),\n",
       " (4, 129),\n",
       " (4, 98),\n",
       " (4, 71),\n",
       " (4, 45),\n",
       " (4, 37),\n",
       " (4, 27),\n",
       " (3, 112)]"
      ]
     },
     "execution_count": 50,
     "metadata": {},
     "output_type": "execute_result"
    }
   ],
   "source": [
    "def term_at_time(query, indice_invertido, k):\n",
    "    \n",
    "    a = {}\n",
    "    listas_invertidas = []\n",
    "    r = []\n",
    "    for word in query.split(\" \"):\n",
    "        if word in indice_invertido.keys():\n",
    "            listas_invertidas.append(indice_invertido[word])\n",
    "    for lista_invertida in listas_invertidas:\n",
    "        for post in lista_invertida:\n",
    "            d = post[0]\n",
    "            frequencia = post[1]\n",
    "            if (d in a.keys()):\n",
    "                a[d] += frequencia\n",
    "            else:\n",
    "                a[d] = frequencia\n",
    "    for (d, ad) in a.items():\n",
    "        sd = ad\n",
    "        heapq.heappush(r, (sd, d))\n",
    "    return heapq.nlargest(k, r)\n",
    "term_at_time(\"presidente\", indice_invertido, 10)"
   ]
  },
  {
   "cell_type": "code",
   "execution_count": 51,
   "metadata": {},
   "outputs": [],
   "source": [
    "consultas = [\"presidente\", \"governo\", \"país\", \"brasil\", \"anos\"]"
   ]
  },
  {
   "cell_type": "markdown",
   "metadata": {},
   "source": [
    "### Execute as 5 consultas em cada algoritmo retornando os top-10 documentos (parâmetro k do algoritmo) "
   ]
  },
  {
   "cell_type": "code",
   "execution_count": 52,
   "metadata": {},
   "outputs": [
    {
     "data": {
      "text/html": [
       "<div>\n",
       "<style scoped>\n",
       "    .dataframe tbody tr th:only-of-type {\n",
       "        vertical-align: middle;\n",
       "    }\n",
       "\n",
       "    .dataframe tbody tr th {\n",
       "        vertical-align: top;\n",
       "    }\n",
       "\n",
       "    .dataframe thead th {\n",
       "        text-align: right;\n",
       "    }\n",
       "</style>\n",
       "<table border=\"1\" class=\"dataframe\">\n",
       "  <thead>\n",
       "    <tr style=\"text-align: right;\">\n",
       "      <th></th>\n",
       "      <th>consulta</th>\n",
       "      <th>document_at_a_time</th>\n",
       "      <th>term_at_a_time</th>\n",
       "      <th>compare</th>\n",
       "    </tr>\n",
       "  </thead>\n",
       "  <tbody>\n",
       "    <tr>\n",
       "      <th>0</th>\n",
       "      <td>presidente</td>\n",
       "      <td>[(9, 3), (6, 41), (5, 6), (4, 129), (4, 98), (...</td>\n",
       "      <td>[(9, 3), (6, 41), (5, 6), (4, 129), (4, 98), (...</td>\n",
       "      <td>True</td>\n",
       "    </tr>\n",
       "    <tr>\n",
       "      <th>1</th>\n",
       "      <td>governo</td>\n",
       "      <td>[(8, 124), (7, 69), (6, 46), (5, 1), (4, 75), ...</td>\n",
       "      <td>[(8, 124), (7, 69), (6, 46), (5, 1), (4, 75), ...</td>\n",
       "      <td>True</td>\n",
       "    </tr>\n",
       "    <tr>\n",
       "      <th>2</th>\n",
       "      <td>país</td>\n",
       "      <td>[(6, 41), (4, 48), (4, 45), (4, 30), (3, 104),...</td>\n",
       "      <td>[(6, 41), (4, 48), (4, 45), (4, 30), (3, 104),...</td>\n",
       "      <td>True</td>\n",
       "    </tr>\n",
       "    <tr>\n",
       "      <th>3</th>\n",
       "      <td>brasil</td>\n",
       "      <td>[(10, 30), (9, 41), (7, 48), (7, 36), (5, 27),...</td>\n",
       "      <td>[(10, 30), (9, 41), (7, 48), (7, 36), (5, 27),...</td>\n",
       "      <td>True</td>\n",
       "    </tr>\n",
       "    <tr>\n",
       "      <th>4</th>\n",
       "      <td>anos</td>\n",
       "      <td>[(5, 6), (4, 129), (4, 36), (2, 126), (2, 75),...</td>\n",
       "      <td>[(5, 6), (4, 129), (4, 36), (2, 126), (2, 75),...</td>\n",
       "      <td>True</td>\n",
       "    </tr>\n",
       "  </tbody>\n",
       "</table>\n",
       "</div>"
      ],
      "text/plain": [
       "     consulta                                 document_at_a_time  \\\n",
       "0  presidente  [(9, 3), (6, 41), (5, 6), (4, 129), (4, 98), (...   \n",
       "1     governo  [(8, 124), (7, 69), (6, 46), (5, 1), (4, 75), ...   \n",
       "2        país  [(6, 41), (4, 48), (4, 45), (4, 30), (3, 104),...   \n",
       "3      brasil  [(10, 30), (9, 41), (7, 48), (7, 36), (5, 27),...   \n",
       "4        anos  [(5, 6), (4, 129), (4, 36), (2, 126), (2, 75),...   \n",
       "\n",
       "                                      term_at_a_time  compare  \n",
       "0  [(9, 3), (6, 41), (5, 6), (4, 129), (4, 98), (...     True  \n",
       "1  [(8, 124), (7, 69), (6, 46), (5, 1), (4, 75), ...     True  \n",
       "2  [(6, 41), (4, 48), (4, 45), (4, 30), (3, 104),...     True  \n",
       "3  [(10, 30), (9, 41), (7, 48), (7, 36), (5, 27),...     True  \n",
       "4  [(5, 6), (4, 129), (4, 36), (2, 126), (2, 75),...     True  "
      ]
     },
     "execution_count": 52,
     "metadata": {},
     "output_type": "execute_result"
    }
   ],
   "source": [
    "documentos_resultantes = []\n",
    "termos_resultantes = []\n",
    "tempo_documentos_resultantes = []\n",
    "tempo_termos_resultantes = []\n",
    "k = 10\n",
    "\n",
    "for consulta in consultas:\n",
    "  documento_inicial = time.time()\n",
    "  documentos_resultantes.append(document_at_time(consulta, indice_invertido, k))\n",
    "  documento_final = time.time()\n",
    "  tempo_documentos_resultantes.append(documento_final - documento_inicial)\n",
    "  \n",
    "  termo_inicial = time.time()\n",
    "  termos_resultantes.append(term_at_time(consulta, indice_invertido, k))\n",
    "  termo_final = time.time()\n",
    "  tempo_termos_resultantes.append(termo_final - termo_inicial)\n",
    "\n",
    "queries_df = pnd.DataFrame()\n",
    "queries_df['consulta'] = consultas\n",
    "queries_df['document_at_a_time'] = documentos_resultantes\n",
    "queries_df['term_at_a_time'] = termos_resultantes\n",
    "queries_df['compare'] = queries_df.document_at_a_time == queries_df.term_at_a_time\n",
    "queries_df"
   ]
  },
  {
   "cell_type": "markdown",
   "metadata": {},
   "source": [
    "### Compare os tempos médios de execução e uso de memória de cada algoritmo"
   ]
  },
  {
   "cell_type": "code",
   "execution_count": 53,
   "metadata": {},
   "outputs": [
    {
     "data": {
      "text/html": [
       "<div>\n",
       "<style scoped>\n",
       "    .dataframe tbody tr th:only-of-type {\n",
       "        vertical-align: middle;\n",
       "    }\n",
       "\n",
       "    .dataframe tbody tr th {\n",
       "        vertical-align: top;\n",
       "    }\n",
       "\n",
       "    .dataframe thead th {\n",
       "        text-align: right;\n",
       "    }\n",
       "</style>\n",
       "<table border=\"1\" class=\"dataframe\">\n",
       "  <thead>\n",
       "    <tr style=\"text-align: right;\">\n",
       "      <th></th>\n",
       "      <th>tempo_médio_document_at_a_time</th>\n",
       "      <th>tempo_médio_term_at_a_time</th>\n",
       "    </tr>\n",
       "  </thead>\n",
       "  <tbody>\n",
       "    <tr>\n",
       "      <th>0</th>\n",
       "      <td>0.000000</td>\n",
       "      <td>0.0</td>\n",
       "    </tr>\n",
       "    <tr>\n",
       "      <th>1</th>\n",
       "      <td>0.000000</td>\n",
       "      <td>0.0</td>\n",
       "    </tr>\n",
       "    <tr>\n",
       "      <th>2</th>\n",
       "      <td>0.000996</td>\n",
       "      <td>0.0</td>\n",
       "    </tr>\n",
       "    <tr>\n",
       "      <th>3</th>\n",
       "      <td>0.000000</td>\n",
       "      <td>0.0</td>\n",
       "    </tr>\n",
       "    <tr>\n",
       "      <th>4</th>\n",
       "      <td>0.000000</td>\n",
       "      <td>0.0</td>\n",
       "    </tr>\n",
       "  </tbody>\n",
       "</table>\n",
       "</div>"
      ],
      "text/plain": [
       "   tempo_médio_document_at_a_time  tempo_médio_term_at_a_time\n",
       "0                        0.000000                         0.0\n",
       "1                        0.000000                         0.0\n",
       "2                        0.000996                         0.0\n",
       "3                        0.000000                         0.0\n",
       "4                        0.000000                         0.0"
      ]
     },
     "execution_count": 53,
     "metadata": {},
     "output_type": "execute_result"
    }
   ],
   "source": [
    "queries_tempo_df = pnd.DataFrame()\n",
    "queries_tempo_df['tempo_médio_document_at_a_time'] = tempo_documentos_resultantes\n",
    "queries_tempo_df['tempo_médio_term_at_a_time'] = tempo_termos_resultantes\n",
    "queries_tempo_df"
   ]
  },
  {
   "cell_type": "markdown",
   "metadata": {},
   "source": [
    "### Implemente uma das versões de consulta conjuntiva (AND) "
   ]
  },
  {
   "cell_type": "code",
   "execution_count": 54,
   "metadata": {},
   "outputs": [],
   "source": [
    "def document_and(consulta, indice_invertido, k):\n",
    "  \n",
    "    indices_consultas = []\n",
    "    rank = []\n",
    "  \n",
    "    for palavra in consulta.split(\" \"):\n",
    "        if palavra in indice_invertido.keys():\n",
    "            indices_consultas.append(indice_invertido[palavra])\n",
    "  \n",
    "    all_query = [item for sublist in indices_consultas for item in sublist]\n",
    "    all_query.sort()\n",
    "  \n",
    "    for i in range(len(all_query)):\n",
    "        doc_score = 0\n",
    "    d = all_query.pop()\n",
    "    for index in all_query:\n",
    "        if index[0] == d[0]:\n",
    "            doc_score += index[1] + d[1]\n",
    "        if doc_score != 0:\n",
    "            heapq.heappush(rank, (doc_score, d[0]))\n",
    "        \n",
    "    return heapq.nlargest(k, rank)"
   ]
  },
  {
   "cell_type": "code",
   "execution_count": 55,
   "metadata": {},
   "outputs": [],
   "source": [
    "queries = [\"presidente\", \"governo\", \"país\", \"brasil\", \"anos\"]"
   ]
  },
  {
   "cell_type": "code",
   "execution_count": 56,
   "metadata": {},
   "outputs": [
    {
     "data": {
      "text/html": [
       "<div>\n",
       "<style scoped>\n",
       "    .dataframe tbody tr th:only-of-type {\n",
       "        vertical-align: middle;\n",
       "    }\n",
       "\n",
       "    .dataframe tbody tr th {\n",
       "        vertical-align: top;\n",
       "    }\n",
       "\n",
       "    .dataframe thead th {\n",
       "        text-align: right;\n",
       "    }\n",
       "</style>\n",
       "<table border=\"1\" class=\"dataframe\">\n",
       "  <thead>\n",
       "    <tr style=\"text-align: right;\">\n",
       "      <th></th>\n",
       "      <th>query</th>\n",
       "      <th>AND</th>\n",
       "    </tr>\n",
       "  </thead>\n",
       "  <tbody>\n",
       "    <tr>\n",
       "      <th>0</th>\n",
       "      <td>presidente</td>\n",
       "      <td>[]</td>\n",
       "    </tr>\n",
       "    <tr>\n",
       "      <th>1</th>\n",
       "      <td>governo</td>\n",
       "      <td>[]</td>\n",
       "    </tr>\n",
       "    <tr>\n",
       "      <th>2</th>\n",
       "      <td>país</td>\n",
       "      <td>[]</td>\n",
       "    </tr>\n",
       "    <tr>\n",
       "      <th>3</th>\n",
       "      <td>brasil</td>\n",
       "      <td>[]</td>\n",
       "    </tr>\n",
       "    <tr>\n",
       "      <th>4</th>\n",
       "      <td>anos</td>\n",
       "      <td>[]</td>\n",
       "    </tr>\n",
       "  </tbody>\n",
       "</table>\n",
       "</div>"
      ],
      "text/plain": [
       "        query AND\n",
       "0  presidente  []\n",
       "1     governo  []\n",
       "2        país  []\n",
       "3      brasil  []\n",
       "4        anos  []"
      ]
     },
     "execution_count": 56,
     "metadata": {},
     "output_type": "execute_result"
    }
   ],
   "source": [
    "documentos_resultantes_and = []\n",
    "k = 10\n",
    "\n",
    "for query in queries:\n",
    "    documentos_resultantes_and.append(document_and(query, indice_invertido, k))\n",
    "\n",
    "\n",
    "queries_df = pnd.DataFrame()\n",
    "queries_df['query'] = queries\n",
    "queries_df['AND'] = documentos_resultantes_and\n",
    "queries_df"
   ]
  },
  {
   "cell_type": "code",
   "execution_count": null,
   "metadata": {},
   "outputs": [],
   "source": []
  },
  {
   "cell_type": "code",
   "execution_count": null,
   "metadata": {},
   "outputs": [],
   "source": []
  }
 ],
 "metadata": {
  "kernelspec": {
   "display_name": "Python 3",
   "language": "python",
   "name": "python3"
  },
  "language_info": {
   "codemirror_mode": {
    "name": "ipython",
    "version": 3
   },
   "file_extension": ".py",
   "mimetype": "text/x-python",
   "name": "python",
   "nbconvert_exporter": "python",
   "pygments_lexer": "ipython3",
   "version": "3.7.1"
  }
 },
 "nbformat": 4,
 "nbformat_minor": 2
}
